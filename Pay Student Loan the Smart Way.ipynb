{
 "cells": [
  {
   "cell_type": "markdown",
   "metadata": {},
   "source": [
    "**Paying off Student Debt Quickly**"
   ]
  },
  {
   "cell_type": "code",
   "execution_count": 1,
   "metadata": {},
   "outputs": [],
   "source": [
    "loans = [\n",
    "    [1686.00, 6.550],\n",
    "    [3374.00, 6.550],\n",
    "    [3903.00, 4.250],\n",
    "    [1757.00, 6.550],\n",
    "    [1443.00, 5.350],\n",
    "    [804.59, 6.550],\n",
    "    [24294.82, 11.00],\n",
    "    [19189.32, 5.00],\n",
    "    [12595, 6.5]\n",
    "]"
   ]
  },
  {
   "cell_type": "code",
   "execution_count": 2,
   "metadata": {},
   "outputs": [
    {
     "name": "stdout",
     "output_type": "stream",
     "text": [
      "[[1686.0, 6.55], [3374.0, 6.55], [3903.0, 4.25], [1757.0, 6.55], [1443.0, 5.35], [804.59, 6.55], [24294.82, 11.0], [19189.32, 5.0], [12595, 6.5]]\n"
     ]
    }
   ],
   "source": [
    "print(loans)"
   ]
  },
  {
   "cell_type": "code",
   "execution_count": 3,
   "metadata": {},
   "outputs": [
    {
     "name": "stdout",
     "output_type": "stream",
     "text": [
      "Loan $1686.0 / %6.55\n",
      "Loan $3374.0 / %6.55\n",
      "Loan $3903.0 / %4.25\n",
      "Loan $1757.0 / %6.55\n",
      "Loan $1443.0 / %5.35\n",
      "Loan $804.59 / %6.55\n",
      "Loan $24294.82 / %11.0\n",
      "Loan $19189.32 / %5.0\n",
      "Loan $12595 / %6.5\n"
     ]
    }
   ],
   "source": [
    "for loan in loans:\n",
    "    print(\"Loan\", \"$\" + str(loan[0]), \"/\", \"%\" + str(loan[1]))"
   ]
  },
  {
   "cell_type": "markdown",
   "metadata": {},
   "source": [
    "**Payment Method 1**\n",
    "\n",
    "This is the method they want you to use.  It is slow and restrictive. I am going to show you the interest only payments for these loans on a monthly basis."
   ]
  },
  {
   "cell_type": "code",
   "execution_count": 4,
   "metadata": {},
   "outputs": [
    {
     "name": "stdout",
     "output_type": "stream",
     "text": [
      "\n",
      "Yearly Interest $110.43\n",
      "Monthly Payment $9.2\n",
      "\n",
      "Yearly Interest $221.0\n",
      "Monthly Payment $18.42\n",
      "\n",
      "Yearly Interest $165.88\n",
      "Monthly Payment $13.82\n",
      "\n",
      "Yearly Interest $115.08\n",
      "Monthly Payment $9.59\n",
      "\n",
      "Yearly Interest $77.2\n",
      "Monthly Payment $6.43\n",
      "\n",
      "Yearly Interest $52.7\n",
      "Monthly Payment $4.39\n",
      "\n",
      "Yearly Interest $2672.43\n",
      "Monthly Payment $222.7\n",
      "\n",
      "Yearly Interest $959.47\n",
      "Monthly Payment $79.96\n",
      "\n",
      "Yearly Interest $818.68\n",
      "Monthly Payment $68.22\n",
      "\n",
      "------------------------------\n",
      "Yearly Total $5192.86\n",
      "Monthly Total $432.74\n"
     ]
    }
   ],
   "source": [
    "yearly_total = 0\n",
    "monthly_total = 0\n",
    "for loan in loans:\n",
    "    yearly_interest_payment = (loan[0] * (loan[1]/100))\n",
    "    monthly_interest_payment = yearly_interest_payment / 12\n",
    "    print()\n",
    "    print(\"Yearly Interest\", \"$\" + str(float(\"{0:.2f}\".format(yearly_interest_payment))))\n",
    "    print(\"Monthly Payment\", \"$\" + str(float(\"{0:.2f}\".format(monthly_interest_payment))))\n",
    "    \n",
    "    yearly_total = yearly_total + yearly_interest_payment\n",
    "    monthly_total = monthly_total + monthly_interest_payment\n",
    "    \n",
    "print()\n",
    "print(\"------------------------------\")\n",
    "print(\"Yearly Total\", \"$\" + str(float(\"{0:.2f}\".format(yearly_total))))\n",
    "print(\"Monthly Total\", \"$\" + str(float(\"{0:.2f}\".format(monthly_total))))"
   ]
  },
  {
   "cell_type": "markdown",
   "metadata": {},
   "source": [
    "**Estimated Income**\n",
    "\n",
    "This income amount just a general low amount."
   ]
  },
  {
   "cell_type": "code",
   "execution_count": 5,
   "metadata": {},
   "outputs": [
    {
     "name": "stdout",
     "output_type": "stream",
     "text": [
      "Yearly Income 15000\n",
      "Monthly Income 1250.0\n"
     ]
    }
   ],
   "source": [
    "income = 15000\n",
    "monthly_income = income / 12\n",
    "\n",
    "print(\"Yearly Income\", income)\n",
    "print(\"Monthly Income\", str(float(\"{0:.2f}\".format(monthly_income))))"
   ]
  },
  {
   "cell_type": "markdown",
   "metadata": {},
   "source": [
    "**Lets Sort the Loans by highest interest rate**"
   ]
  },
  {
   "cell_type": "code",
   "execution_count": 6,
   "metadata": {},
   "outputs": [
    {
     "name": "stdout",
     "output_type": "stream",
     "text": [
      "[24294.82, 11.0]\n",
      "[19189.32, 5.0]\n",
      "[12595, 6.5]\n",
      "[3903.0, 4.25]\n",
      "[3374.0, 6.55]\n",
      "[1757.0, 6.55]\n",
      "[1686.0, 6.55]\n",
      "[1443.0, 5.35]\n",
      "[804.59, 6.55]\n",
      "[[24294.82, 11.0], [19189.32, 5.0], [12595, 6.5], [3903.0, 4.25], [3374.0, 6.55], [1757.0, 6.55], [1686.0, 6.55], [1443.0, 5.35], [804.59, 6.55]]\n"
     ]
    }
   ],
   "source": [
    "from collections import defaultdict\n",
    "\n",
    "sorted_loans = sorted(loans, reverse=True)\n",
    "dicts = {}\n",
    "count = 0\n",
    "\n",
    "for loan in sorted_loans:\n",
    "    print(loan)\n",
    "\n",
    "print(sorted_loans)"
   ]
  },
  {
   "cell_type": "markdown",
   "metadata": {},
   "source": [
    "**Method 1 - Normal Method**"
   ]
  },
  {
   "cell_type": "code",
   "execution_count": 7,
   "metadata": {},
   "outputs": [
    {
     "name": "stdout",
     "output_type": "stream",
     "text": [
      "[[24294.82, 11.0], [19189.32, 5.0], [12595, 6.5], [3903.0, 4.25], [3374.0, 6.55], [1757.0, 6.55], [1686.0, 6.55], [1443.0, 5.35], [804.59, 6.55]]\n",
      "[[0, 11.0], [0, 5.0], [0, 6.5], [0, 4.25], [0, 6.55], [0, 6.55], [0, 6.55], [0, 5.35], [0, 6.55]]\n"
     ]
    }
   ],
   "source": [
    "import copy\n",
    "\n",
    "#tracks the time it will take\n",
    "month_count = 0\n",
    "#tracks the amount of interest that will be paid\n",
    "interest_paid = 0\n",
    "#all paid flag\n",
    "all_paid = False\n",
    "#method 1 loan values\n",
    "method_1_loans = copy.deepcopy(sorted_loans)\n",
    "#interest deduction per month constantly calculated\n",
    "monthly_interest_income_deduction = 0\n",
    "\n",
    "print(method_1_loans)\n",
    "\n",
    "while(not all_paid):\n",
    "    monthly_income = income / 12\n",
    "    monthly_interest_sum = 0\n",
    "    #handle interest and income\n",
    "    for index in range(len(method_1_loans)):\n",
    "        yearly_interest_payment = (method_1_loans[index][0] * (method_1_loans[index][1]/100))\n",
    "        monthly_interest_payment = yearly_interest_payment / 12\n",
    "\n",
    "        if(method_1_loans[index][0] > 0):\n",
    "            #lets calculate the total interest for all the loans\n",
    "            monthly_interest_sum = monthly_interest_sum + monthly_interest_payment\n",
    "            #track interest paid\n",
    "            interest_paid = interest_paid + monthly_interest_payment\n",
    "        \n",
    "#     print(monthly_income)\n",
    "#     print(monthly_interest_sum)\n",
    "    monthly_income = monthly_income - monthly_interest_sum\n",
    "#     print(monthly_income)\n",
    "    \n",
    "    #handle extra payment\n",
    "    for index in range(len(method_1_loans)):\n",
    "        if(method_1_loans[index][0] > 0):\n",
    "            if(method_1_loans[index][0] > monthly_income):\n",
    "                method_1_loans[index][0] = method_1_loans[index][0] - monthly_income\n",
    "                monthly_income = 0\n",
    "            else:\n",
    "                method_1_loans[index][0] = 0\n",
    "                monthly_income = monthly_income - method_1_loans[index][0]\n",
    "        \n",
    "    #keep track of what month we are on\n",
    "    month_count = month_count + 1\n",
    "    \n",
    "    #see if we are done and all loans are paid\n",
    "    all_paid_count = 0\n",
    "    for index in range(len(method_1_loans)):\n",
    "        if(method_1_loans[index][0] <= 0):\n",
    "            all_paid_count = all_paid_count + 1\n",
    "            \n",
    "    if(all_paid_count == len(method_1_loans)):\n",
    "        all_paid = True\n",
    "        \n",
    "#print the list to see what it looks like\n",
    "print(method_1_loans)"
   ]
  },
  {
   "cell_type": "code",
   "execution_count": 8,
   "metadata": {},
   "outputs": [
    {
     "name": "stdout",
     "output_type": "stream",
     "text": [
      "Months 62\n",
      "Years 5.166666666666667\n",
      "Interest Paid 12975.176904287378\n"
     ]
    }
   ],
   "source": [
    "print(\"Months\", month_count)\n",
    "print(\"Years\", month_count/12)\n",
    "print(\"Interest Paid\", interest_paid)"
   ]
  },
  {
   "cell_type": "markdown",
   "metadata": {},
   "source": [
    "**Method 1 with minimum payment amount for payment terms**\n",
    "\n",
    "Basically some loans require an interest payment and an additional minimum payment so you pay it off in a certain number of years."
   ]
  },
  {
   "cell_type": "code",
   "execution_count": 9,
   "metadata": {},
   "outputs": [
    {
     "name": "stdout",
     "output_type": "stream",
     "text": [
      "[[24294.82, 11.0], [19189.32, 5.0], [12595, 6.5], [3903.0, 4.25], [3374.0, 6.55], [1757.0, 6.55], [1686.0, 6.55], [1443.0, 5.35], [804.59, 6.55]]\n",
      "[[0, 11.0], [0, 5.0], [0, 6.5], [0, 4.25], [0, 6.55], [0, 6.55], [0, 6.55], [0, 5.35], [0, 6.55]]\n"
     ]
    }
   ],
   "source": [
    "import copy\n",
    "\n",
    "#tracks the time it will take\n",
    "month_count = 0\n",
    "#tracks the amount of interest that will be paid\n",
    "interest_paid = 0\n",
    "#all paid flag\n",
    "all_paid = False\n",
    "#method 1 loan values\n",
    "method_1_loans = copy.deepcopy(sorted_loans)\n",
    "#interest deduction per month constantly calculated\n",
    "monthly_interest_income_deduction = 0\n",
    "\n",
    "print(method_1_loans)\n",
    "\n",
    "while(not all_paid):\n",
    "    monthly_income = income / 12\n",
    "    monthly_interest_sum = 0\n",
    "    monthly_minimum_increase = 0\n",
    "    \n",
    "    #handle interest and income and additional over just interest\n",
    "    for index in range(len(method_1_loans)):\n",
    "        yearly_interest_payment = (method_1_loans[index][0] * (method_1_loans[index][1]/100))\n",
    "        monthly_interest_payment = yearly_interest_payment / 12\n",
    "        \n",
    "        if(method_1_loans[index][0] > 0):\n",
    "            #lets calculate the total interest for all the loans\n",
    "            monthly_interest_sum = monthly_interest_sum + monthly_interest_payment\n",
    "            \n",
    "            #track interest paid\n",
    "            interest_paid = interest_paid + monthly_interest_payment\n",
    "\n",
    "            #some loans also require an additional amount over interest to be paid\n",
    "            #we will just use the interest again almost as if you paid interest twice, but\n",
    "            #this amount will go to principal\n",
    "            if(method_1_loans[index][0] > monthly_interest_payment):\n",
    "                method_1_loans[index][0] = method_1_loans[index][0] - monthly_interest_payment\n",
    "                monthly_minimum_increase = monthly_minimum_increase + monthly_interest_payment\n",
    "            else:\n",
    "                monthly_minimum_increase = monthly_minimum_increase + (monthly_interest_payment - method_1_loans[index][0])\n",
    "                method_1_loans[index][0] = 0\n",
    "        \n",
    "#     print(monthly_income)\n",
    "#     print(monthly_minimum_increase)\n",
    "    monthly_income = monthly_income - monthly_minimum_increase\n",
    "    monthly_income = monthly_income - monthly_interest_sum\n",
    "    \n",
    "    #handle extra payment\n",
    "    for index in range(len(method_1_loans)):\n",
    "        if(method_1_loans[index][0] > 0):\n",
    "            if(method_1_loans[index][0] > monthly_income):\n",
    "                method_1_loans[index][0] = method_1_loans[index][0] - monthly_income\n",
    "                monthly_income = 0\n",
    "            else:\n",
    "                method_1_loans[index][0] = 0\n",
    "                monthly_income = monthly_income - method_1_loans[index][0]\n",
    "        \n",
    "    #keep track of what month we are on\n",
    "    month_count = month_count + 1\n",
    "    \n",
    "    #see if we are done and all loans are paid\n",
    "    all_paid_count = 0\n",
    "    for index in range(len(method_1_loans)):\n",
    "        if(method_1_loans[index][0] <= 0):\n",
    "            all_paid_count = all_paid_count + 1\n",
    "            \n",
    "    if(all_paid_count == len(method_1_loans)):\n",
    "        all_paid = True\n",
    "        \n",
    "#print the list to see what it looks like\n",
    "print(method_1_loans)"
   ]
  },
  {
   "cell_type": "code",
   "execution_count": 10,
   "metadata": {},
   "outputs": [
    {
     "name": "stdout",
     "output_type": "stream",
     "text": [
      "Months 62\n",
      "Years 5.166666666666667\n",
      "Interest Paid 13413.748305034647\n"
     ]
    }
   ],
   "source": [
    "print(\"Months\", month_count)\n",
    "print(\"Years\", month_count/12)\n",
    "print(\"Interest Paid\", interest_paid)"
   ]
  },
  {
   "cell_type": "markdown",
   "metadata": {},
   "source": [
    "**Method 2**\n",
    "\n",
    "This method is something I think is simple, but does require a bit more understanding of the agreement you made with the loan provider.  Most loans have a time window before you go into default.  The loan default time for people I know is around 290 days.  That is about 9 and a half months, but we will round down to 9 to make the math/dates easy.  The other part is this method could effect your credit.  If you are a broke college student, or newly on the job market though I doubt this is a big deal as you likely haven't established it yet.  Thirdly, avoid forberance at all costs.  Going to forberance alters the terms of your contract.  Student loans have regulations they have to abide by and if you go into forberance that changes the rules."
   ]
  },
  {
   "cell_type": "code",
   "execution_count": 11,
   "metadata": {},
   "outputs": [
    {
     "name": "stdout",
     "output_type": "stream",
     "text": [
      "[[24294.82, 11.0], [19189.32, 5.0], [12595, 6.5], [3903.0, 4.25], [3374.0, 6.55], [1757.0, 6.55], [1686.0, 6.55], [1443.0, 5.35], [804.59, 6.55]]\n",
      "[[0, 11.0], [0, 5.0], [0, 6.5], [0, 4.25], [0, 6.55], [0, 6.55], [0, 6.55], [0, 5.35], [0, 6.55]]\n"
     ]
    }
   ],
   "source": [
    "import copy\n",
    "\n",
    "#tracks the time it will take\n",
    "month_count = 0\n",
    "#tracks the amount of interest that will be paid\n",
    "interest_paid = 0\n",
    "#all paid flag\n",
    "all_paid = False\n",
    "#method 1 loan values\n",
    "method_2_loans = copy.deepcopy(sorted_loans)\n",
    "#interest deduction per month constantly calculated\n",
    "monthly_interest_income_deduction = 0\n",
    "\n",
    "print(method_2_loans)\n",
    "\n",
    "unpaid_interest = [0] * len(method_2_loans)\n",
    "while(not all_paid):\n",
    "    monthly_income = income / 12\n",
    "    monthly_interest_sum = 0\n",
    "    #handle interest and income\n",
    "    for index in range(len(method_1_loans)):\n",
    "        yearly_interest_payment = (method_2_loans[index][0] * (method_2_loans[index][1]/100))\n",
    "        monthly_interest_payment = yearly_interest_payment / 12\n",
    "\n",
    "        if(method_2_loans[index][0] > 0 and month_count % 9 == 0 and month_count != 0):\n",
    "            #lets calculate the total interest for all the loans\n",
    "            monthly_interest_sum = monthly_interest_sum + (unpaid_interest[index] + monthly_interest_payment)\n",
    "            unpaid_interest[index] = 0\n",
    "            #track interest paid\n",
    "        elif(method_2_loans[index][0] > 0):\n",
    "            method_1_loans[index][0] = method_1_loans[index][0] + monthly_interest_payment\n",
    "            interest_paid = interest_paid + monthly_interest_payment\n",
    "            \n",
    "            unpaid_interest[index] = unpaid_interest[index] + monthly_interest_payment\n",
    "        \n",
    "#     print(monthly_income)\n",
    "#     print(monthly_interest_sum)\n",
    "    monthly_income = monthly_income - monthly_interest_sum\n",
    "#     print(monthly_income)\n",
    "#     print()\n",
    "    \n",
    "    #handle extra payment\n",
    "    for index in range(len(method_2_loans)):\n",
    "        if(method_2_loans[index][0] > 0):\n",
    "            if(method_2_loans[index][0] > monthly_income):\n",
    "                method_2_loans[index][0] = method_2_loans[index][0] - monthly_income\n",
    "                monthly_income = 0\n",
    "            else:\n",
    "                method_2_loans[index][0] = 0\n",
    "                monthly_income = monthly_income - method_2_loans[index][0]\n",
    "        \n",
    "    #keep track of what month we are on\n",
    "    month_count = month_count + 1\n",
    "    \n",
    "    #see if we are done and all loans are paid\n",
    "    all_paid_count = 0\n",
    "    for index in range(len(method_1_loans)):\n",
    "        if(method_2_loans[index][0] <= 0):\n",
    "            all_paid_count = all_paid_count + 1\n",
    "            \n",
    "    if(all_paid_count == len(method_2_loans)):\n",
    "        all_paid = True\n",
    "        \n",
    "#print the list to see what it looks like\n",
    "print(method_2_loans)"
   ]
  },
  {
   "cell_type": "code",
   "execution_count": 12,
   "metadata": {},
   "outputs": [
    {
     "name": "stdout",
     "output_type": "stream",
     "text": [
      "Months 61\n",
      "Years 5.083333333333333\n",
      "Interest Paid 11248.559931085623\n"
     ]
    }
   ],
   "source": [
    "print(\"Months\", month_count)\n",
    "print(\"Years\", month_count/12)\n",
    "print(\"Interest Paid\", interest_paid)"
   ]
  },
  {
   "cell_type": "code",
   "execution_count": null,
   "metadata": {},
   "outputs": [],
   "source": []
  }
 ],
 "metadata": {
  "kernelspec": {
   "display_name": "Python 3",
   "language": "python",
   "name": "python3"
  },
  "language_info": {
   "codemirror_mode": {
    "name": "ipython",
    "version": 3
   },
   "file_extension": ".py",
   "mimetype": "text/x-python",
   "name": "python",
   "nbconvert_exporter": "python",
   "pygments_lexer": "ipython3",
   "version": "3.6.5"
  }
 },
 "nbformat": 4,
 "nbformat_minor": 2
}
